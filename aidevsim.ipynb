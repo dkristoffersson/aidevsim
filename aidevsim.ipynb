{
 "cells": [
  {
   "cell_type": "code",
   "execution_count": 1,
   "metadata": {
    "collapsed": true,
    "scrolled": true
   },
   "outputs": [],
   "source": [
    "from mesa import Agent, Model\n",
    "from mesa.time import RandomActivation\n",
    "from mesa.batchrunner import BatchRunner\n",
    "from mesa.datacollection import DataCollector\n",
    "\n",
    "import matplotlib\n",
    "import random\n",
    "import numpy as np\n",
    "\n",
    "%matplotlib inline\n",
    "\n",
    "import matplotlib.pyplot as plt\n",
    "from matplotlib.ticker import MaxNLocator\n",
    "\n",
    "from ipywidgets import widgets\n",
    "from IPython.display import display\n",
    "import IPython.display\n",
    "import statistics\n",
    "from enum import Enum, auto\n",
    "from collections import OrderedDict"
   ]
  },
  {
   "cell_type": "code",
   "execution_count": 2,
   "metadata": {},
   "outputs": [
    {
     "data": {
      "application/javascript": [
       "\n",
       "IPython.OutputArea.prototype._should_scroll = function(lines) {\n",
       "    return false;\n",
       "}\n"
      ],
      "text/plain": [
       "<IPython.core.display.Javascript object>"
      ]
     },
     "metadata": {},
     "output_type": "display_data"
    }
   ],
   "source": [
    "# Matplotlib adds a scrollbar too easily, which ruins setting up a \"dashboard\". This code/hack prevents scrollbars.\n",
    "from IPython.display import Javascript\n",
    "disable_js = \"\"\"\n",
    "IPython.OutputArea.prototype._should_scroll = function(lines) {\n",
    "    return false;\n",
    "}\n",
    "\"\"\"\n",
    "display(Javascript(disable_js))"
   ]
  },
  {
   "cell_type": "code",
   "execution_count": 3,
   "metadata": {
    "collapsed": true
   },
   "outputs": [],
   "source": [
    "def gini(x): # from http://stackoverflow.com/a/39513799\n",
    "    # (Warning: This is a concise implementation, but it is O(n**2)\n",
    "    # in time and memory, where n = len(x).  *Don't* pass in huge\n",
    "    # samples!)\n",
    "\n",
    "    # Mean absolute difference\n",
    "    mad = np.abs(np.subtract.outer(x, x)).mean()\n",
    "    # Relative mean absolute difference\n",
    "    rmad = mad/np.mean(x)\n",
    "    # Gini coefficient\n",
    "    g = 0.5 * rmad\n",
    "    return g"
   ]
  },
  {
   "cell_type": "code",
   "execution_count": 4,
   "metadata": {
    "collapsed": true
   },
   "outputs": [],
   "source": [
    "class TechDevType(Enum):\n",
    "    LINEAR = auto()\n",
    "    EXPONENTIAL = auto()\n",
    "    \n",
    "    def __str__(self):\n",
    "        return self.name\n",
    "\n",
    "\n",
    "class StochasticityType(Enum):\n",
    "    NONE = auto()\n",
    "    BINARY = auto()\n",
    "    BETA = auto()\n",
    "    \n",
    "    def __str__(self):\n",
    "        return self.name\n",
    "\n",
    "    \n",
    "class SharingType(Enum):\n",
    "    NONE = auto()\n",
    "    ALL = auto()\n",
    "    LEADER = auto()\n",
    "    SIMILAR_THRESHOLD = auto()\n",
    "    SIMILAR_LINEAR = auto()\n",
    "    SIMILAR_LEADER_THRESHOLD = auto()\n",
    "    PROPORTIONAL_GAIN_FROM_ALL = auto()\n",
    "    ALL_TO_ALL = auto()\n",
    "    \n",
    "    def __str__(self):\n",
    "        return self.name\n",
    "\n",
    "\n",
    "class DistributionType(Enum):\n",
    "    NONE = auto()\n",
    "    BERNOULLI = auto()\n",
    "    UNIFORM = auto()\n",
    "    BETA = auto()\n",
    "    \n",
    "    def __str__(self):\n",
    "        return self.name\n",
    "\n",
    "\n",
    "# str method that works like expected on tuples with Enum elements (actually uses their specific __str__.)\n",
    "# str((DistributionType.BETA,1,2)) gives '(<DistributionType.BETA: 4>, 1, 2)'\n",
    "# str_without_tuple_insanity((DistributionType.BETA,1,2)) gives '(BETA, 1, 2)'\n",
    "def str_without_tuple_insanity(s):\n",
    "    if isinstance(s, tuple):\n",
    "        return '(' + ', '.join([str(e) for e in s]) + ')'\n",
    "    else:\n",
    "        return str(s)"
   ]
  },
  {
   "cell_type": "code",
   "execution_count": 5,
   "metadata": {
    "collapsed": true
   },
   "outputs": [],
   "source": [
    "class DeveloperAgent(Agent):\n",
    "    def __init__(self, unique_id, model, ufr_stochasticity, ufr_max):\n",
    "        super().__init__(unique_id, model)\n",
    "        self.capability = 10 * random.random()\n",
    "        \n",
    "        ufr_stochasticity_type = ufr_stochasticity[0]\n",
    "        assert ufr_stochasticity_type is DistributionType.UNIFORM or ufr_stochasticity_type is DistributionType.BETA\n",
    "        if ufr_stochasticity_type is DistributionType.UNIFORM:\n",
    "            self.utility_function_rating = ufr_max * random.random()\n",
    "        else: #ufr_stochasticity_type is DistributionType.BETA:\n",
    "            shape_parameter_alpha = ufr_stochasticity[1]\n",
    "            shape_parameter_beta = ufr_stochasticity[2]\n",
    "            self.utility_function_rating = ufr_max * random.betavariate(shape_parameter_alpha, shape_parameter_beta)\n",
    "\n",
    "    def step(self):\n",
    "        pass\n",
    "    \n",
    "    def calculate_ufr_difference(self, other):\n",
    "        return abs(other.utility_function_rating - self.utility_function_rating)\n",
    "    \n",
    "    def calculate_ufr_similarity(self, other):\n",
    "        ufr_difference = self.calculate_ufr_difference(other)\n",
    "        if ufr_difference == 0.0:\n",
    "            return 1\n",
    "        return min(1, 1 / ufr_difference)\n",
    "\n",
    "\n",
    "class DevelopmentModel(Model):\n",
    "    too_large_increase = 0\n",
    "    def __init__(self, agent_count, ufr_stochasticity, ufr_max, tech_dev_type, tech_dev_stochasticity, tech_dev_factor, \n",
    "                 sharing_threshold, sharing_factor, sharing_type, fixed_random_seed):\n",
    "        self.tech_dev_type = tech_dev_type\n",
    "        self.tech_dev_stochasticity = tech_dev_stochasticity\n",
    "        self.tech_dev_factor = tech_dev_factor\n",
    "        self.sharing_threshold = sharing_threshold\n",
    "        self.sharing_factor = sharing_factor\n",
    "        self.sharing_type = sharing_type\n",
    "        self.schedule = RandomActivation(self) # TODO: Can the seed for this be fixed? This will be important when the agents do individual actions.\n",
    "        self.running = True\n",
    "        # Create agents\n",
    "        if fixed_random_seed:\n",
    "            random.seed(1)\n",
    "        for i in range(agent_count):\n",
    "            a = DeveloperAgent(i, self, ufr_stochasticity, ufr_max)\n",
    "            self.schedule.add(a)\n",
    "  \n",
    "        self.datacollector = DataCollector(\n",
    "            #model_reporters={\"gini\" : compute_model_gini},\n",
    "            agent_reporters={\"capability\" : lambda a: a.capability,\n",
    "                             \"ufr\" : lambda a: a.utility_function_rating})\n",
    "    def step(self):\n",
    "        self.datacollector.collect(self)\n",
    "        \n",
    "        # Add increase from innate development\n",
    "        stochasticity_factor = 1\n",
    "        tech_dev_stochasticity_type = self.tech_dev_stochasticity[0]\n",
    "        if tech_dev_stochasticity_type is DistributionType.UNIFORM:\n",
    "            stochasticity_factor = random.random()\n",
    "        if tech_dev_stochasticity_type is DistributionType.BERNOULLI:\n",
    "            p = self.tech_dev_stochasticity[1]\n",
    "            stochasticity_factor = 1 if random.random() < p else 0\n",
    "        if tech_dev_stochasticity_type is DistributionType.BETA:\n",
    "            shape_parameter_alpha = self.tech_dev_stochasticity[1]\n",
    "            shape_parameter_beta = self.tech_dev_stochasticity[2]\n",
    "            stochasticity_factor = random.betavariate(shape_parameter_alpha, shape_parameter_beta)\n",
    "        else: # if tech_dev_stochasticity_type is DistributionType.NONE:\n",
    "            pass\n",
    "        \n",
    "        if self.tech_dev_type == TechDevType.LINEAR:\n",
    "            for agent in self.schedule.agents:\n",
    "                agent.capability += (self.tech_dev_factor * SIMULATION_SPEED * stochasticity_factor)\n",
    "        elif self.tech_dev_type == TechDevType.EXPONENTIAL:\n",
    "            for agent in self.schedule.agents:\n",
    "                agent.capability += agent.capability * (self.tech_dev_factor * SIMULATION_SPEED * stochasticity_factor)\n",
    "\n",
    "        # Add increase from sharing\n",
    "        capabilities = [a.capability for a in self.schedule.agents]\n",
    "        agent_count = len(self.schedule.agents)\n",
    "        largest_capability = max(capabilities)\n",
    "\n",
    "        new_capabilities = list(capabilities)\n",
    "        cap_from_sharing = [0.0 for _ in range(agent_count)]\n",
    "        for index in range(agent_count):\n",
    "            agent = self.schedule.agents[index]\n",
    "            # in NONE, there is no capability increase from sharing.\n",
    "            if self.sharing_type is SharingType.NONE:\n",
    "                pass\n",
    "            # in LEADER, agents get some fraction of the leader's capabilities.\n",
    "            elif self.sharing_type is SharingType.LEADER:\n",
    "                cap_from_sharing[index] = (largest_capability - agent.capability) * self.sharing_factor\n",
    "            # in SIMILAR_LEADER_THRESHOLD, The agent get a fraction of the difference between their capability and, \n",
    "            # from the set of similar agents, the capability of the agent farthest ahead\n",
    "            elif self.sharing_type is SharingType.SIMILAR_LEADER_THRESHOLD:\n",
    "                similar_agents = []\n",
    "                for other_agent in self.schedule.agents:\n",
    "                    ufr_difference = agent.calculate_ufr_difference(other_agent)\n",
    "                    if ufr_difference < self.sharing_threshold:\n",
    "                        similar_agents.append(other_agent)\n",
    "                if similar_agents:\n",
    "                    similar_agents_capabilities = [a.capability for a in similar_agents]\n",
    "                    largest_cap_among_similar_agents = max(similar_agents_capabilities)\n",
    "                    if largest_cap_among_similar_agents > agent.capability:\n",
    "                        cap_from_sharing[index] = (largest_cap_among_similar_agents - agent.capability) * self.sharing_factor\n",
    "            else:\n",
    "                for other_agent in self.schedule.agents:\n",
    "                    if agent is other_agent:\n",
    "                        continue\n",
    "                    capability_difference = other_agent.capability - agent.capability\n",
    "                    if capability_difference <= 0.0:\n",
    "                        continue\n",
    "            # in ALL, agents get a fraction of everyone's capability above them. \n",
    "                    if self.sharing_type is SharingType.ALL:\n",
    "                        cap_from_sharing[index] += capability_difference * self.sharing_factor\n",
    "                    elif self.sharing_type is SharingType.SIMILAR_THRESHOLD:\n",
    "                        ufr_difference = agent.calculate_ufr_difference(other_agent)\n",
    "            #capability difference if statement here?\n",
    "            # in SIMILAR_THRESHOLD, agents get a fraction of the capabilities of everyone above them with similar enough UFs.          \n",
    "                        if ufr_difference < self.sharing_threshold:\n",
    "                            cap_from_sharing[index] += capability_difference * self.sharing_factor\n",
    "            # in SIMILAR_LINEAR, agents get a fraction of the difference between their capability and the capability \n",
    "            #of all agents ahead of it, scaled by how similar the agents are.\n",
    "                    elif self.sharing_type is SharingType.SIMILAR_LINEAR:\n",
    "                        ufr_similarity = agent.calculate_ufr_similarity(other_agent)\n",
    "                        cap_from_sharing[index] += capability_difference * ufr_similarity * self.sharing_factor\n",
    "            # in PROPORTIONAL_GAIN_FROM_ALL, everyone gains from everyone above in proportion to their closeness to the current peak. \n",
    "                    elif self.sharing_type is SharingType.PROPORTIONAL_GAIN_FROM_ALL:    \n",
    "                        cap_from_sharing[index] += other_agent.capability * agent.capability / largest_capability * self.sharing_factor\n",
    "                    elif self.sharing_type is SharingType.ALL_TO_ALL:\n",
    "                        cap_from_sharing[index] += other_agent.capability * self.sharing_factor\n",
    "            # The sharing logic right now does not cap how much an agent might get from others. Sanity check.\n",
    "            if new_capabilities[index] > largest_capability:\n",
    "                DevelopmentModel.too_large_increase += 1\n",
    "        for index in range(agent_count):\n",
    "            agent = self.schedule.agents[index]\n",
    "            agent.capability += cap_from_sharing[index] * SIMULATION_SPEED\n",
    "\n",
    "        self.schedule.step()"
   ]
  },
  {
   "cell_type": "code",
   "execution_count": null,
   "metadata": {
    "collapsed": true
   },
   "outputs": [],
   "source": []
  },
  {
   "cell_type": "code",
   "execution_count": 6,
   "metadata": {
    "collapsed": true
   },
   "outputs": [],
   "source": [
    "def plot_capabilities(chart_type, agent_caps_histories, utility_function_ratings, step, \n",
    "                      label, y_max):\n",
    "    agent_capabilities = agent_caps_histories[step]\n",
    "    agent_count = len(agent_capabilities)\n",
    "    fig = plt.gcf()\n",
    "    fig.set_size_inches(10, 6)\n",
    "    axes = plt.gca()\n",
    "    #axes.set_xlim([xmin,xmax])\n",
    "    if y_max > 0.0:\n",
    "        axes.set_ylim([0.0, y_max])\n",
    "    \n",
    "    if chart_type == 'uf-capability scatter plot':\n",
    "        #plt.hist(agent_capabilities, label=label, bins=len(agent_capabilities))\n",
    "        for index in range(len(utility_function_ratings)):\n",
    "            plt.scatter(utility_function_ratings[index], agent_capabilities[index])\n",
    "        #plt.scatter(utility_function_ratings, agent_capabilities, label=label)\n",
    "    elif (chart_type == 'progress chart'):\n",
    "        caps_histories_by_agent = agent_caps_histories.swaplevel(0, 1)\n",
    "        for agent_id in range(agent_count):\n",
    "            agent_cap_history = caps_histories_by_agent[agent_id]\n",
    "            plt.plot(range(step+1), agent_cap_history[:step+1])\n",
    "    else: # 'capability histogram'\n",
    "        plt.hist(agent_capabilities, label=label, bins=len(agent_capabilities))\n",
    "        plt.legend(loc = \"upper left\")\n",
    "\n",
    "    plt.show()\n",
    "\n",
    "def plot_utility_function_ratings(utility_function_ratings):\n",
    "    #plt.hist(utility_function_ratings, color=\"red\", label=\"utility function ratings\")\n",
    "    #plt.plot(utility_function_ratings, color='red', label=\"utility function ratings\")\n",
    "    #plt.scatter(range(len(utility_function_ratings)), utility_function_ratings, color='red',\n",
    "    #            label=\"utility function ratings\")\n",
    "    plt.scatter(utility_function_ratings, range(len(utility_function_ratings)), color='red',\n",
    "                label=\"utility function ratings\")\n",
    "    plt.legend()\n",
    "    plt.show()\n",
    "\n",
    "def draw_plots(step, chart_type, agent_caps_histories, utility_function_ratings, y_max):\n",
    "    label = \"Capabilities, step \" + str(step)\n",
    "    plot_capabilities(chart_type, agent_caps_histories, utility_function_ratings, step, label, y_max)\n",
    "    plot_utility_function_ratings(utility_function_ratings)\n",
    "\n",
    "def draw_dashboard(simulation_steps, model_histories):\n",
    "    model_dropdown_options = list(model_histories.keys())\n",
    "    model_dropdown = widgets.Dropdown(options=model_dropdown_options, description='Model', disabled=False,\n",
    "        layout=widgets.Layout(display='flex', flex_flow='row', justify_content='space-between')\n",
    "                                      #button_style='' # 'success', 'info', 'warning', 'danger' or ''\n",
    "    )\n",
    "    step_slider = widgets.IntSlider(min=0, max=(simulation_steps-1), step=1, value=0, \n",
    "                                   layout=widgets.Layout(width='800px'))\n",
    "    \n",
    "    cap_chart_type_buttons = widgets.RadioButtons(options=['uf-capability scatter plot', \n",
    "                                                           'capability histogram',\n",
    "                                                            'progress chart'])\n",
    "    #y_max_text_field = widgets.FloatText()\n",
    "    \n",
    "    stats_labels = [widgets.Label('Lowest'), widgets.Label('Highest'), widgets.Label('Median'), \n",
    "                    widgets.Label('Gini')]\n",
    "    stats_values = [widgets.Label(), widgets.Label(), widgets.Label(), widgets.Label()]\n",
    "    stats_box = widgets.VBox([widgets.HBox(stats_labels), widgets.HBox(stats_values)])\n",
    "    \n",
    "    @widgets.interact(model=model_dropdown, step=step_slider, chart_type=cap_chart_type_buttons, )\n",
    "                      #y_max=y_max_text_field)\n",
    "    def plot(model, step, chart_type): #, y_max):\n",
    "        if step >= 0:\n",
    "            model_history = model_histories[model]\n",
    "            agent_caps_histories = model_history.capability\n",
    "            ufrs = model_history.ufr[0] # Ufrs don't vary, so we just select them from step 0\n",
    "            \n",
    "            draw_plots(step, chart_type, agent_caps_histories, ufrs, 0)#float(y_max))\n",
    "            capabilities = agent_caps_histories[step]\n",
    "            stats_values[0].value = '%.2f'%min(capabilities)\n",
    "            stats_values[1].value = '%.2f'%max(capabilities)\n",
    "            stats_values[2].value = '%.2f'%statistics.median(capabilities)\n",
    "            stats_values[3].value = '%.4f'%gini(capabilities)\n",
    "    \n",
    "    display(stats_box)\n",
    "\n",
    "    if DevelopmentModel.too_large_increase > 0:\n",
    "        print('Count, over all steps, of agents given a sharing bonus that put them ahead of ' +\n",
    "          'what the leader had before sharing: ' + str(DevelopmentModel.too_large_increase))"
   ]
  },
  {
   "cell_type": "code",
   "execution_count": 7,
   "metadata": {
    "collapsed": true
   },
   "outputs": [],
   "source": [
    "# Test that arg behaves like a sequence (get_item, iter) -- like a list, and not like a string (strip).\n",
    "def is_sequence(arg):\n",
    "    return (not hasattr(arg, \"strip\") and\n",
    "            hasattr(arg, \"__getitem__\") or\n",
    "            hasattr(arg, \"__iter__\"))\n",
    "\n",
    "def validate_parameters(parameters):\n",
    "    # Validate that every parameter value is in list/sequence form\n",
    "    for parameter_name, parameter_value in parameters.items():\n",
    "        assert is_sequence(parameter_value), \"Parameter '\" + parameter_name + \"' has value '\" + str(parameter_value) \\\n",
    "        + \"' which isn't a sequence. Did you forget to add brackets?\"\n",
    "    \n",
    "    # Validate distribution parameters\n",
    "    for key, value in parameters.items():\n",
    "        if key == \"ufr_stochasticity\" or key == \"tech_dev_stochasticity\":\n",
    "            for variant in value:\n",
    "                assert isinstance(variant, tuple), 'Distribution values have to be tuples. Did you forget the trailing \",\"? '\n",
    "\n",
    "def create_batch_runner(parameters, simulation_steps):\n",
    "    return BatchRunner(DevelopmentModel,\n",
    "                       parameters,\n",
    "                       iterations=1,\n",
    "                       max_steps=simulation_steps,\n",
    "                       model_reporters={\"datacollectors\": lambda a: a.datacollector})\n",
    "\n",
    "# Repackage the collected data into a more useful and presentable form\n",
    "def get_model_histories(batch_runner, parameter_names_in_order):\n",
    "    run_data = batch_runner.get_model_vars_dataframe()\n",
    "    model_histories = {}\n",
    "    for _, row in run_data.iterrows():\n",
    "        model_parameters = row.drop(['datacollectors', 'Run'])\n",
    "        parameters_ordered = [model_parameters[parameter_name] for parameter_name in parameter_names_in_order]\n",
    "        model_identifier = ','.join(str_without_tuple_insanity(parameter).replace(' ', '') for parameter in parameters_ordered)\n",
    "        model_history = row.datacollectors.get_agent_vars_dataframe()\n",
    "        model_histories[model_identifier] = model_history\n",
    "    return model_histories"
   ]
  },
  {
   "cell_type": "code",
   "execution_count": 8,
   "metadata": {
    "scrolled": false
   },
   "outputs": [
    {
     "data": {
      "image/png": "[encoded data removed]",
      "text/plain": [
       "<matplotlib.figure.Figure at 0x7fdbf5f5e860>"
      ]
     },
     "metadata": {},
     "output_type": "display_data"
    },
    {
     "data": {
      "image/png": "[encoded data removed]",
      "text/plain": [
       "<matplotlib.figure.Figure at 0x7fdbf5f5e898>"
      ]
     },
     "metadata": {},
     "output_type": "display_data"
    },
    {
     "name": "stderr",
     "output_type": "stream",
     "text": [
      "Widget Javascript not detected.  It may not be installed properly. Did you enable the widgetsnbextension? If not, then run \"jupyter nbextension enable --py --sys-prefix widgetsnbextension\"\n"
     ]
    }
   ],
   "source": [
    "SIMULATION_SPEED = 1.0\n",
    "simulation_steps = 20\n",
    "\n",
    "# This is an OrderedDict so we can keep the order written here when we display things like in the dropdowns\n",
    "parameters = OrderedDict([(\"agent_count\", [100]),\n",
    "                          (\"ufr_stochasticity\", [(DistributionType.UNIFORM,), ]),#(DistributionType.BETA, 1, 3)]),\n",
    "                          (\"ufr_max\", [10]),\n",
    "                          (\"tech_dev_type\", [TechDevType.EXPONENTIAL]),\n",
    "                          (\"tech_dev_stochasticity\", [(DistributionType.NONE,), #(DistributionType.UNIFORM,),\n",
    "                                                     #(DistributionType.BERNOULLI, 0.5), (DistributionType.BETA, 1, 3)],\n",
    "                                                     ]),\n",
    "                          (\"tech_dev_factor\", [10.0]),\n",
    "                          (\"sharing_type\", [SharingType.SIMILAR_THRESHOLD]),\n",
    "                          (\"sharing_factor\", np.arange(0, 1.1, 0.1)),\n",
    "                          (\"sharing_threshold\", np.arange(0, 1.1, 0.1)),\n",
    "                          (\"fixed_random_seed\", [True]),])\n",
    "\n",
    "validate_parameters(parameters)\n",
    "\n",
    "batch_runner = create_batch_runner(parameters, simulation_steps)\n",
    "batch_runner.run_all()\n",
    "model_histories = get_model_histories(batch_runner, parameters.keys())\n",
    "draw_dashboard(simulation_steps, model_histories)"
   ]
  },
  {
   "cell_type": "code",
   "execution_count": null,
   "metadata": {},
   "outputs": [],
   "source": []
  },
  {
   "cell_type": "code",
   "execution_count": 9,
   "metadata": {
    "scrolled": true
   },
   "outputs": [
    {
     "data": {
      "image/png": "[encoded data removed]",
      "text/plain": [
       "<matplotlib.figure.Figure at 0x7fdbf591a198>"
      ]
     },
     "metadata": {},
     "output_type": "display_data"
    },
    {
     "name": "stdout",
     "output_type": "stream",
     "text": [
      "0: 100,(UNIFORM),10,EXPONENTIAL,(NONE),10.0,SIMILAR_THRESHOLD,0.0,0.2,True\n",
      "1: 100,(UNIFORM),10,EXPONENTIAL,(NONE),10.0,SIMILAR_THRESHOLD,0.1,0.2,True\n",
      "2: 100,(UNIFORM),10,EXPONENTIAL,(NONE),10.0,SIMILAR_THRESHOLD,0.2,0.2,True\n",
      "3: 100,(UNIFORM),10,EXPONENTIAL,(NONE),10.0,SIMILAR_THRESHOLD,0.30000000000000004,0.2,True\n",
      "4: 100,(UNIFORM),10,EXPONENTIAL,(NONE),10.0,SIMILAR_THRESHOLD,0.4,0.2,True\n",
      "5: 100,(UNIFORM),10,EXPONENTIAL,(NONE),10.0,SIMILAR_THRESHOLD,0.5,0.2,True\n",
      "6: 100,(UNIFORM),10,EXPONENTIAL,(NONE),10.0,SIMILAR_THRESHOLD,0.6000000000000001,0.2,True\n",
      "7: 100,(UNIFORM),10,EXPONENTIAL,(NONE),10.0,SIMILAR_THRESHOLD,0.7000000000000001,0.2,True\n",
      "8: 100,(UNIFORM),10,EXPONENTIAL,(NONE),10.0,SIMILAR_THRESHOLD,0.8,0.2,True\n",
      "9: 100,(UNIFORM),10,EXPONENTIAL,(NONE),10.0,SIMILAR_THRESHOLD,0.9,0.2,True\n",
      "10: 100,(UNIFORM),10,EXPONENTIAL,(NONE),10.0,SIMILAR_THRESHOLD,1.0,0.2,True\n"
     ]
    }
   ],
   "source": [
    "run_data = batch_runner.get_model_vars_dataframe()\n",
    "model_histories = {}\n",
    "model_ids = []\n",
    "for _, row in run_data.iterrows():\n",
    "    model_parameters = row.drop(['datacollectors', 'Run'])\n",
    "    parameters_ordered = [model_parameters[parameter_name] for parameter_name in parameters.keys()]\n",
    "    model_identifier = ','.join(str_without_tuple_insanity(parameter).replace(' ', '') for parameter in parameters_ordered)\n",
    "    model_ids.append(model_identifier)\n",
    "    model_history = row.datacollectors.get_agent_vars_dataframe()\n",
    "    model_histories[model_identifier] = model_history\n",
    "run_data['identifier'] = model_ids # \"Shortcut\" way of adding a column http://stackoverflow.com/questions/12555323/adding-new-column-to-existing-dataframe-in-python-pandas\n",
    "\n",
    "\n",
    "def plot_model_ginis(ginis, x_values, x_label):\n",
    "    fig = plt.gcf()\n",
    "    fig.set_size_inches(10, 6)    \n",
    "    #fig.suptitle('test title', fontsize=20)\n",
    "    plt.xlabel(x_label, fontsize=12)\n",
    "    plt.ylabel('gini coefficient', fontsize=12)\n",
    "    plt.plot(x_values, ginis)\n",
    "    plt.show()\n",
    "    \n",
    "def set_dropdowns(dropdowns, parameters):\n",
    "    for dropdown, (parameter_name, parameter_value) in zip(dropdowns, parameters):\n",
    "        dropdown.description = parameter_name\n",
    "        dropdown.options = list(parameter_value)\n",
    "\n",
    "def draw_multi_model_dashboard(simulation_steps, run_data, model_histories, varying_parameters):\n",
    "    parameter_dropdowns = [widgets.Dropdown(disabled=False) for _ in range(len(varying_parameters))]\n",
    "    parameter_dropdowns[0].description = 'Dimension to plot'\n",
    "    parameter_dropdowns[0].options = list(varying_parameters.keys())\n",
    "    previous_dimension_selected_to_vary = parameter_dropdowns[0].value\n",
    "    set_dropdowns(parameter_dropdowns[1:], list(varying_parameters.items())[1:])\n",
    "    dropdowns_dict = OrderedDict((dropdown.description, dropdown) for dropdown in parameter_dropdowns)\n",
    "\n",
    "    step_slider = widgets.IntSlider(min=0, max=(simulation_steps-1), step=1, value=0, \n",
    "                                       layout=widgets.Layout(width='800px'))\n",
    "    @widgets.interact(step=step_slider, **dropdowns_dict)\n",
    "    def plot(step, **dropdowns_dict):\n",
    "        if step >= 0:\n",
    "            selection = run_data\n",
    "            selected_dimension_to_vary = dropdowns_dict['Dimension to plot']\n",
    "            remaining_varying_parameters = {key : value for key, value in varying_parameters.items() if key != selected_dimension_to_vary}\n",
    "            \n",
    "            nonlocal previous_dimension_selected_to_vary\n",
    "            if selected_dimension_to_vary != previous_dimension_selected_to_vary:\n",
    "                set_dropdowns(parameter_dropdowns[1:], list(remaining_varying_parameters.items()))\n",
    "                previous_dimension_selected_to_vary = selected_dimension_to_vary\n",
    "\n",
    "            dropdown_index = 1\n",
    "            for parameter_name in remaining_varying_parameters.keys():\n",
    "                parameter_selected_value = parameter_dropdowns[dropdown_index].value\n",
    "                selection = selection.loc[(selection[parameter_name] == parameter_selected_value), :]\n",
    "                dropdown_index += 1\n",
    "            \n",
    "            ginis = tuple(gini(row.datacollectors.get_agent_vars_dataframe().capability[step]) for _, row in selection.iterrows())\n",
    "            x_values = selection[selected_dimension_to_vary]\n",
    "            plot_model_ginis(ginis, x_values, selected_dimension_to_vary)\n",
    "            \n",
    "            model_ids = selection.identifier\n",
    "            for model_id, index in zip(model_ids, range(len(model_ids))):\n",
    "                print(str(index) + \": \" + model_id)\n",
    "\n",
    "\n",
    "varying_parameters = OrderedDict((name, value) for name, value in parameters.items() if len(value) > 1)\n",
    "if varying_parameters:\n",
    "    draw_multi_model_dashboard(simulation_steps, run_data, model_histories, varying_parameters)\n",
    "\n",
    "\n",
    "#w = widgets.interactive(plot, step=step_slider, var_parameter=var_parameter_dropdown, **fix_parameter_dropdowns)\n",
    "#display(w)\n",
    "\n"
   ]
  }
 ],
 "metadata": {
  "kernelspec": {
   "display_name": "Python 3",
   "language": "python",
   "name": "python3"
  },
  "language_info": {
   "codemirror_mode": {
    "name": "ipython",
    "version": 3
   },
   "file_extension": ".py",
   "mimetype": "text/x-python",
   "name": "python",
   "nbconvert_exporter": "python",
   "pygments_lexer": "ipython3",
   "version": "3.6.0"
  },
  "widgets": {
   "state": {
    "08e6cc8d0a6445729329c912074e2e2e": {
     "views": [
      {
       "cell_index": 8
      }
     ]
    },
    "2d7190126657443190ab66cd48626d8b": {
     "views": [
      {
       "cell_index": 8
      }
     ]
    },
    "3e563c7d1df6441bb8086c216da34e20": {
     "views": [
      {
       "cell_index": 8
      }
     ]
    },
    "aad6fdb430eb49259bb0d649a6baca5e": {
     "views": [
      {
       "cell_index": 8
      }
     ]
    },
    "af34ac793cda4228af46c483118b38a9": {
     "views": [
      {
       "cell_index": 8
      }
     ]
    },
    "af9bd0681dad43e7a3675bec7c9f085c": {
     "views": [
      {
       "cell_index": 8
      }
     ]
    },
    "bb2aa974ed6e47f09c57863e1b1d6257": {
     "views": [
      {
       "cell_index": 10
      }
     ]
    },
    "cbfeaa29dbd847b89538e057a5f2cbf5": {
     "views": [
      {
       "cell_index": 8
      }
     ]
    },
    "eb5fbf6493c14660b70b8b0cd308a1b4": {
     "views": [
      {
       "cell_index": 8
      }
     ]
    },
    "ef56ea43f97a4d50b12f0ba7d1b8bc6c": {
     "views": [
      {
       "cell_index": 8
      }
     ]
    }
   },
   "version": "1.2.0"
  }
 },
 "nbformat": 4,
 "nbformat_minor": 1
}
